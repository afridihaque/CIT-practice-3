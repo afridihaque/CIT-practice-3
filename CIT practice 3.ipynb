{
 "cells": [
  {
   "cell_type": "code",
   "execution_count": 1,
   "id": "0e4f0fca",
   "metadata": {},
   "outputs": [],
   "source": [
    "a={'k1':11}"
   ]
  },
  {
   "cell_type": "code",
   "execution_count": 3,
   "id": "0e228902",
   "metadata": {},
   "outputs": [
    {
     "data": {
      "text/plain": [
       "False"
      ]
     },
     "execution_count": 3,
     "metadata": {},
     "output_type": "execute_result"
    }
   ],
   "source": [
    "11 in a"
   ]
  },
  {
   "cell_type": "code",
   "execution_count": 4,
   "id": "bb65b911",
   "metadata": {},
   "outputs": [
    {
     "data": {
      "text/plain": [
       "False"
      ]
     },
     "execution_count": 4,
     "metadata": {},
     "output_type": "execute_result"
    }
   ],
   "source": [
    "11 in a.items()"
   ]
  },
  {
   "cell_type": "code",
   "execution_count": 5,
   "id": "18112474",
   "metadata": {},
   "outputs": [
    {
     "data": {
      "text/plain": [
       "True"
      ]
     },
     "execution_count": 5,
     "metadata": {},
     "output_type": "execute_result"
    }
   ],
   "source": [
    "11 in a.values()"
   ]
  },
  {
   "cell_type": "code",
   "execution_count": 6,
   "id": "ae32d96b",
   "metadata": {},
   "outputs": [],
   "source": [
    "set1={1,2,3,4,5,'afridi'}\n",
    "set2={4,5,6,7,8,'haque'}"
   ]
  },
  {
   "cell_type": "code",
   "execution_count": 7,
   "id": "ccbfce15",
   "metadata": {},
   "outputs": [
    {
     "data": {
      "text/plain": [
       "{1, 2, 3, 4, 5, 'afridi'}"
      ]
     },
     "execution_count": 7,
     "metadata": {},
     "output_type": "execute_result"
    }
   ],
   "source": [
    "set1"
   ]
  },
  {
   "cell_type": "code",
   "execution_count": 9,
   "id": "c53bfb5f",
   "metadata": {},
   "outputs": [
    {
     "name": "stdout",
     "output_type": "stream",
     "text": [
      "{1, 2, 3, 4, 5, 'afridi'}\n"
     ]
    }
   ],
   "source": [
    "print(set1)"
   ]
  },
  {
   "cell_type": "code",
   "execution_count": 10,
   "id": "fec41d10",
   "metadata": {},
   "outputs": [
    {
     "data": {
      "text/plain": [
       "{1, 2, 3, 4, 5, 6, 7, 8, 'afridi', 'haque'}"
      ]
     },
     "execution_count": 10,
     "metadata": {},
     "output_type": "execute_result"
    }
   ],
   "source": [
    "set1 | set2"
   ]
  },
  {
   "cell_type": "code",
   "execution_count": 11,
   "id": "bdc8e7a7",
   "metadata": {},
   "outputs": [
    {
     "data": {
      "text/plain": [
       "{4, 5}"
      ]
     },
     "execution_count": 11,
     "metadata": {},
     "output_type": "execute_result"
    }
   ],
   "source": [
    "set1 & set2"
   ]
  },
  {
   "cell_type": "code",
   "execution_count": 12,
   "id": "3862fef1",
   "metadata": {},
   "outputs": [],
   "source": [
    "from random import randint"
   ]
  },
  {
   "cell_type": "code",
   "execution_count": 13,
   "id": "6da8693d",
   "metadata": {},
   "outputs": [
    {
     "data": {
      "text/plain": [
       "39"
      ]
     },
     "execution_count": 13,
     "metadata": {},
     "output_type": "execute_result"
    }
   ],
   "source": [
    "randint(0,100)"
   ]
  },
  {
   "cell_type": "code",
   "execution_count": 18,
   "id": "69349b8b",
   "metadata": {},
   "outputs": [
    {
     "name": "stdout",
     "output_type": "stream",
     "text": [
      "enter the number 0: 0\n",
      "student harsh having the 39.0 second lowest score\n"
     ]
    }
   ],
   "source": [
    "\n",
    "if __name__ == '__main__':\n",
    "    for _ in range(int(input(\"enter the number 0: \"))):\n",
    "        name = input('Type your name:')\n",
    "        score = float(input(\"give your score:\"))\n",
    "    print(f'student {name} having the {score} second lowest score')\n",
    "else:\n",
    "    print('i do not know')"
   ]
  },
  {
   "cell_type": "code",
   "execution_count": 19,
   "id": "0f0dc6d6",
   "metadata": {},
   "outputs": [
    {
     "name": "stdout",
     "output_type": "stream",
     "text": [
      "enter the number 0: 5\n",
      "Type your name:harsh\n",
      "give your score:39\n",
      "Type your name:harsh\n",
      "give your score:39\n",
      "Type your name:harsh\n",
      "give your score:39\n",
      "Type your name:harsh\n",
      "give your score:39\n",
      "Type your name:harsh\n",
      "give your score:39\n",
      "student harsh having the 39.0 second lowest score\n"
     ]
    }
   ],
   "source": [
    "if __name__ == '__main__':\n",
    "    for _ in range(int(input(\"enter the number 0: \"))):\n",
    "        name = input('Type your name:')\n",
    "        score = float(input(\"give your score:\"))\n",
    "    print(f'student {name} having the {score} second lowest score')\n",
    "else:\n",
    "    print('i do not know')"
   ]
  },
  {
   "cell_type": "code",
   "execution_count": 20,
   "id": "fbd5d063",
   "metadata": {},
   "outputs": [
    {
     "name": "stdout",
     "output_type": "stream",
     "text": [
      "enter the number 0: 0\n",
      "student harsh having the 39.0 second lowest score\n"
     ]
    }
   ],
   "source": [
    "if __name__ == '__main__':\n",
    "    for _ in range(int(input(\"enter the number 0: \"))):\n",
    "        name = input('Type your name:')\n",
    "        score = float(input(\"give your score:\"))\n",
    "    print(f'student {name} having the {score} second lowest score')\n",
    "else:\n",
    "    print('i do not know')"
   ]
  },
  {
   "cell_type": "code",
   "execution_count": 1,
   "id": "bd252785",
   "metadata": {},
   "outputs": [
    {
     "name": "stdout",
     "output_type": "stream",
     "text": [
      "Enter your name: \n",
      "you did not enter your name!\n",
      "Enter your name: \n",
      "you did not enter your name!\n",
      "Enter your name: \n",
      "you did not enter your name!\n",
      "Enter your name: max\n",
      "Hello max\n"
     ]
    }
   ],
   "source": [
    "name=input(\"Enter your name: \")\n",
    "while name == \"\":\n",
    "    print(\"you did not enter your name!\")\n",
    "    name=input(\"Enter your name: \")\n",
    "else:\n",
    "    print(f\"Hello {name}\")"
   ]
  },
  {
   "cell_type": "code",
   "execution_count": 3,
   "id": "ff90524a",
   "metadata": {},
   "outputs": [
    {
     "name": "stdout",
     "output_type": "stream",
     "text": [
      "Enter your name: max\n",
      "Hello max\n"
     ]
    }
   ],
   "source": [
    "name=input(\"Enter your name: \")\n",
    "while name == \"\":\n",
    "    print(\"you did not enter your name!\")\n",
    "    name=input(\"Enter your name: \")\n",
    "else:\n",
    "    print(f\"Hello {name}\")"
   ]
  },
  {
   "cell_type": "code",
   "execution_count": 4,
   "id": "53ae12d4",
   "metadata": {},
   "outputs": [
    {
     "name": "stdout",
     "output_type": "stream",
     "text": [
      "Enter your age: -1\n",
      "We do not take negative output!\n",
      "Enter your age: -8\n",
      "We do not take negative output!\n",
      "Enter your age: 26\n",
      "your age is 26\n"
     ]
    }
   ],
   "source": [
    "age=int(input(\"Enter your age: \"))\n",
    "\n",
    "while age<0:\n",
    "    print(\"We do not take negative output!\")\n",
    "    age=int(input(\"Enter your age: \"))\n",
    "else:\n",
    "    print(f\"your age is {age}\")"
   ]
  },
  {
   "cell_type": "code",
   "execution_count": 5,
   "id": "29f0ede3",
   "metadata": {},
   "outputs": [
    {
     "name": "stdout",
     "output_type": "stream",
     "text": [
      "Enter a food you like (q to quit): pizza\n",
      "Your food is pizza\n",
      "Enter another  food you like (q to quit): burger\n",
      "Your food is burger\n",
      "Enter another  food you like (q to quit): q\n",
      "bye\n"
     ]
    }
   ],
   "source": [
    "food=input(\"Enter a food you like (q to quit): \")\n",
    "while not food == \"q\":\n",
    "    print(f\"Your food is {food}\")\n",
    "    food=input(\"Enter another  food you like (q to quit): \")\n",
    "print(\"bye\")"
   ]
  },
  {
   "cell_type": "code",
   "execution_count": 7,
   "id": "7f119a9b",
   "metadata": {},
   "outputs": [
    {
     "name": "stdout",
     "output_type": "stream",
     "text": [
      "choose a num between 1-10:-1\n",
      "-1 is not valid\n",
      "choose a num between 1-10:2\n",
      "your num is 2\n"
     ]
    }
   ],
   "source": [
    "num=int(input(\"choose a num between 1-10:\"))\n",
    "while num<1 or num>10:\n",
    "    print(f\"{num} is not valid\")\n",
    "    num=int(input(\"choose a num between 1-10:\"))\n",
    "print(f\"your num is {num}\")"
   ]
  },
  {
   "cell_type": "code",
   "execution_count": 9,
   "id": "deffc2c5",
   "metadata": {},
   "outputs": [
    {
     "name": "stdout",
     "output_type": "stream",
     "text": [
      "Bangladesh\n",
      "Bangladesh\n",
      "Bangladesh\n",
      "Bangladesh\n",
      "Bangladesh\n",
      "Bangladesh\n",
      "Bangladesh\n",
      "Bangladesh\n",
      "Bangladesh\n",
      "Bangladesh\n"
     ]
    }
   ],
   "source": [
    "name=0\n",
    "while name<10:\n",
    "    print(\"Bangladesh\")\n",
    "    name += 1\n"
   ]
  },
  {
   "cell_type": "code",
   "execution_count": 12,
   "id": "31792518",
   "metadata": {},
   "outputs": [
    {
     "name": "stdout",
     "output_type": "stream",
     "text": [
      "Choose a num for A:5\n",
      "Choose a num for B:3\n",
      "Choose a num for C:3\n",
      "Choose a num for D:5\n",
      "not acceptable\n"
     ]
    }
   ],
   "source": [
    "A=int(input(\"Choose a num for A:\"))\n",
    "B=int(input(\"Choose a num for B:\"))\n",
    "C=int(input(\"Choose a num for C:\"))\n",
    "D=int(input(\"Choose a num for D:\"))\n",
    "\n",
    "if A>B:\n",
    "    if C>D:\n",
    "        print(\"acceptable\")\n",
    "    else:\n",
    "        print(\"not acceptable\")\n",
    "else:\n",
    "    print(\"not acceptable\")\n",
    "    "
   ]
  },
  {
   "cell_type": "code",
   "execution_count": 16,
   "id": "96e9e432",
   "metadata": {},
   "outputs": [
    {
     "name": "stdout",
     "output_type": "stream",
     "text": [
      "Choose your city: jaipur\n",
      "Monument is Redfort\n"
     ]
    }
   ],
   "source": [
    "city=input(\"Choose your city: \")\n",
    "if city == \"delhi\" or \"Delhi\":\n",
    "    print(\"Monument is Redfort\")\n",
    "elif city == \"Agra\" or \"agra\":\n",
    "    print(\"Monument is Taj Mahal\")\n",
    "elif city == \"Jaipur\" or \"jaipur\":\n",
    "    print(\"Monument is Jal Mahal\")\n",
    "else:\n",
    "    print(\"Dn't know that much!\")"
   ]
  },
  {
   "cell_type": "code",
   "execution_count": 19,
   "id": "22a0a62c",
   "metadata": {},
   "outputs": [
    {
     "name": "stdout",
     "output_type": "stream",
     "text": [
      "enter a num: 6\n",
      "hello\n"
     ]
    }
   ],
   "source": [
    "a = int(input(\"enter a num: \"))\n",
    "if a>5 and a<10:\n",
    "    print('hello')\n",
    "else:\n",
    "    print('bye')"
   ]
  },
  {
   "cell_type": "code",
   "execution_count": 20,
   "id": "70ee24ab",
   "metadata": {},
   "outputs": [
    {
     "name": "stdout",
     "output_type": "stream",
     "text": [
      "hello\n"
     ]
    }
   ],
   "source": [
    "a = 9\n",
    "if a>5 and a<10:\n",
    "    print('hello')\n",
    "else:\n",
    "    print('bye')"
   ]
  },
  {
   "cell_type": "code",
   "execution_count": 23,
   "id": "276c7cfb",
   "metadata": {},
   "outputs": [
    {
     "name": "stdout",
     "output_type": "stream",
     "text": [
      "Enter your age: 18\n",
      "Accept\n"
     ]
    }
   ],
   "source": [
    "voting_age=int(input(\"Enter your age: \"))\n",
    "if voting_age >= 18:\n",
    "    print(\"Accept\")\n",
    "else:\n",
    "    print(\"not accept\")"
   ]
  },
  {
   "cell_type": "code",
   "execution_count": 24,
   "id": "310e0f9e",
   "metadata": {},
   "outputs": [
    {
     "name": "stdout",
     "output_type": "stream",
     "text": [
      "enter your age:55\n",
      "Not senior citizen\n"
     ]
    }
   ],
   "source": [
    "age=int(input(\"enter your age:\"))\n",
    "if age >= 60:\n",
    "    print(\"senior citizen\")\n",
    "else:\n",
    "    print(\"Not senior citizen\")"
   ]
  },
  {
   "cell_type": "code",
   "execution_count": 30,
   "id": "306e42e6",
   "metadata": {},
   "outputs": [
    {
     "name": "stdout",
     "output_type": "stream",
     "text": [
      "choose the num1:1\n",
      "choose the num2:3\n",
      "lowest number is  1.0\n"
     ]
    }
   ],
   "source": [
    "num1=float(input(\"choose the num1:\"))\n",
    "num2=float(input(\"choose the num2:\"))\n",
    "if num1>=num2:\n",
    "    print(f\"lowest number is {num2}\")\n",
    "elif num2>=num1:\n",
    "    print(\"lowest number is \",num1)\n"
   ]
  },
  {
   "cell_type": "code",
   "execution_count": 31,
   "id": "848a7413",
   "metadata": {},
   "outputs": [
    {
     "name": "stdout",
     "output_type": "stream",
     "text": [
      "choose the num1:1\n",
      "choose the num2:5\n",
      "largest number is  5.0\n"
     ]
    }
   ],
   "source": [
    "num1=float(input(\"choose the num1:\"))\n",
    "num2=float(input(\"choose the num2:\"))\n",
    "if num1>num2:\n",
    "    print(f\"largest number is {num1}\")\n",
    "else:\n",
    "    print(\"largest number is \",num2)"
   ]
  },
  {
   "cell_type": "code",
   "execution_count": 34,
   "id": "1704c7e8",
   "metadata": {},
   "outputs": [
    {
     "name": "stdout",
     "output_type": "stream",
     "text": [
      "choose a num:3\n",
      "choose a num4\n",
      "negative\n"
     ]
    }
   ],
   "source": [
    "positive_num=int(input(\"choose a num:\")) \n",
    "negative_num=int(input(\"choose a num\"))\n",
    "\n",
    "if positive_num%2==0:\n",
    "    print(\"positive\")\n",
    "else:\n",
    "    print(\"negative\")"
   ]
  },
  {
   "cell_type": "code",
   "execution_count": 35,
   "id": "07b8615f",
   "metadata": {},
   "outputs": [
    {
     "name": "stdout",
     "output_type": "stream",
     "text": [
      "choose a num:1\n",
      "positive number\n"
     ]
    }
   ],
   "source": [
    "num=int(input(\"choose a num:\"))\n",
    "if num>=0:\n",
    "    print(\"positive number\")\n",
    "else:\n",
    "    print(\"negative number\")"
   ]
  },
  {
   "cell_type": "code",
   "execution_count": 37,
   "id": "2b08ecf9",
   "metadata": {},
   "outputs": [
    {
     "name": "stdout",
     "output_type": "stream",
     "text": [
      "choose a num: 4\n",
      "even number\n"
     ]
    }
   ],
   "source": [
    "num=int(input(\"choose a num: \"))\n",
    "if num%2==0:\n",
    "    print(\"even number\")\n",
    "else:\n",
    "    print(\"odd number\")"
   ]
  },
  {
   "cell_type": "code",
   "execution_count": 41,
   "id": "dd1624fd",
   "metadata": {},
   "outputs": [
    {
     "name": "stdout",
     "output_type": "stream",
     "text": [
      "choose a num: 9\n",
      "not accept\n"
     ]
    }
   ],
   "source": [
    "num=int(input(\"choose a num: \"))\n",
    "if num%2==0 and num%3==0:\n",
    "    print(\"accept\")\n",
    "else:\n",
    "    print(\"not accept\")"
   ]
  },
  {
   "cell_type": "code",
   "execution_count": 42,
   "id": "730b57b4",
   "metadata": {},
   "outputs": [
    {
     "name": "stdout",
     "output_type": "stream",
     "text": [
      "Enter temp of water: 99\n",
      "water is not boling\n"
     ]
    }
   ],
   "source": [
    "temp=int(input(\"Enter temp of water: \"))\n",
    "if temp>=100:\n",
    "    print(\"water boiling\")\n",
    "else:\n",
    "    print(\"water is not boling\")"
   ]
  },
  {
   "cell_type": "code",
   "execution_count": 45,
   "id": "0cc3c092",
   "metadata": {},
   "outputs": [
    {
     "name": "stdout",
     "output_type": "stream",
     "text": [
      "Choose a num:4\n",
      "number is not prime number\n"
     ]
    }
   ],
   "source": [
    "k=0\n",
    "num1=int(input(\"Choose a num:\"))\n",
    "if num1==0 and num1==1:\n",
    "    k=1\n",
    "for i in range(2,num1):\n",
    "    if num1%i==0:\n",
    "        k=1\n",
    "if k==1:\n",
    "    print(\"number is not prime number\")\n",
    "else:\n",
    "    print(\"number is prime\")"
   ]
  },
  {
   "cell_type": "code",
   "execution_count": 48,
   "id": "da1672f6",
   "metadata": {},
   "outputs": [
    {
     "name": "stdout",
     "output_type": "stream",
     "text": [
      "Enter a alphabetg\n",
      "It's not a vowel character\n"
     ]
    }
   ],
   "source": [
    "ch=input('Enter a alphabet')\n",
    "vowel=\"aeiouAEIOU\"\n",
    "if ch in vowel:\n",
    "    print(\"It's a vowel character\")\n",
    "else:\n",
    "    print(\"It's not a vowel character\")"
   ]
  },
  {
   "cell_type": "code",
   "execution_count": null,
   "id": "7b0ded82",
   "metadata": {},
   "outputs": [],
   "source": []
  }
 ],
 "metadata": {
  "kernelspec": {
   "display_name": "Python 3 (ipykernel)",
   "language": "python",
   "name": "python3"
  },
  "language_info": {
   "codemirror_mode": {
    "name": "ipython",
    "version": 3
   },
   "file_extension": ".py",
   "mimetype": "text/x-python",
   "name": "python",
   "nbconvert_exporter": "python",
   "pygments_lexer": "ipython3",
   "version": "3.9.13"
  }
 },
 "nbformat": 4,
 "nbformat_minor": 5
}
